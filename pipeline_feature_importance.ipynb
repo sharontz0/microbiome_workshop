{
 "cells": [
  {
   "cell_type": "code",
   "execution_count": 1,
   "id": "d807ba17",
   "metadata": {},
   "outputs": [],
   "source": [
    "import pandas as pd\n",
    "import numpy as np\n",
    "import matplotlib.pyplot as plt\n",
    "from sklearn.ensemble import RandomForestClassifier\n",
    "from sklearn.model_selection import train_test_split\n",
    "from sklearn.metrics import average_precision_score, precision_recall_curve, auc\n",
    "from sklearn.feature_selection import SelectFromModel\n",
    "import lightgbm as lgb\n",
    "import warnings\n",
    "warnings.filterwarnings(\"ignore\")\n",
    "from sklearn.preprocessing import StandardScaler\n",
    "from sklearn.ensemble import RandomForestClassifier\n",
    "import lightgbm as lgb"
   ]
  },
  {
   "cell_type": "code",
   "execution_count": 102,
   "id": "b9dc8b77",
   "metadata": {},
   "outputs": [],
   "source": [
    "metadata = pd.read_csv(\"metadata.csv\",header=0,index_col=0)\n",
    "microbiome = pd.read_csv(\"microbiome.csv\",header=0,index_col=0)\n",
    "metabolome = pd.read_csv(\"serum_lipo.csv\",header=0,index_col=0)"
   ]
  },
  {
   "cell_type": "code",
   "execution_count": 109,
   "id": "a25b5f25",
   "metadata": {},
   "outputs": [],
   "source": [
    "def clr_transform(df: pd.DataFrame, epsilon=1e-10) -> pd.DataFrame:\n",
    "    X = df.fillna(0.0).astype(float).values\n",
    "    X = np.log(X + epsilon)\n",
    "    X = X - X.mean(axis=1, keepdims=True)\n",
    "    return pd.DataFrame(X, index=df.index, columns=df.columns)\n",
    "def standartization_transform(train_df, test_df):\n",
    "    scaler = StandardScaler().fit(train_df)\n",
    "    train_scaled = pd.DataFrame(scaler.transform(train_df), index=train_df.index, columns=train_df.columns)\n",
    "    test_scaled = pd.DataFrame(scaler.transform(test_df), index=test_df.index, columns=test_df.columns)\n",
    "    return train_scaled, test_scaled"
   ]
  },
  {
   "cell_type": "code",
   "execution_count": 115,
   "id": "98a4ae1f",
   "metadata": {},
   "outputs": [],
   "source": [
    "diseases_to_categories = {'Metabolic_Syndrome':['1'],'Type_2_Diabetes':['3'],'Coronary_Artery_Disease':['4','5','6'],'Severe_Obesity':['2a','2b'],'Heart_Failure':['6','7'],'Healthy':['8']}\n",
    "microbiome_train, microbiome_test, diseases_train, diseases_test = train_test_split(microbiome, metadata[['PATGROUPFINAL_C']], train_size=0.8)\n",
    "microbiome_train = clr_transform(microbiome_train)\n",
    "microbiome_test = clr_transform(microbiome_test)\n",
    "train_indices = microbiome_train.index\n",
    "test_indices  = microbiome_test.index\n",
    "metabolome_train = metabolome.loc[train_indices]\n",
    "metabolome_test  = metabolome.loc[test_indices]\n",
    "metabolome_train, metabolome_test = standartization_transform(metabolome_train, metabolome_test)\n",
    "microbiome_and_metabolome_train = pd.merge(metabolome_train, microbiome_train, left_index=True, right_index=True, how='inner')\n",
    "microbiome_and_metabolome_test = pd.merge(metabolome_test, microbiome_test, left_index=True, right_index=True, how='inner')\n",
    "metadata['Disease_status'] = metadata['PATGROUPFINAL_C'].apply(lambda x:0 if x == '8' else 1)\n",
    "metadata['T2D'] = metadata['PATGROUPFINAL_C'].apply(lambda x:1 if x in diseases_to_categories['Type_2_Diabetes'] else 0)\n",
    "metadata['CAD'] = metadata['PATGROUPFINAL_C'].apply(lambda x:1 if x in diseases_to_categories['Coronary_Artery_Disease'] else 0)\n",
    "metadata['HF'] = metadata['PATGROUPFINAL_C'].apply(lambda x:1 if x in diseases_to_categories['Heart_Failure'] else 0)\n",
    "metadata['SO'] = metadata['PATGROUPFINAL_C'].apply(lambda x:1 if x in diseases_to_categories['Severe_Obesity'] else 0)\n",
    "metadata['MS'] = metadata['PATGROUPFINAL_C'].apply(lambda x:1 if x in diseases_to_categories['Metabolic_Syndrome'] else 0)\n",
    "metadata_train = metadata.loc[train_indices]\n",
    "metadata_test = metadata.loc[test_indices]\n",
    "labels_train_all_diseases = metadata_train['Disease_status']\n",
    "labels_test_all_diseases = metadata_test['Disease_status']\n",
    "labels_train_T2D = metadata_train['T2D']\n",
    "labels_train_CAD = metadata_train['CAD']\n",
    "labels_train_HF = metadata_train['HF']\n",
    "labels_train_SO = metadata_train['SO']\n",
    "labels_train_MS = metadata_train['MS']\n",
    "labels_train_1 = metadata_train['PATGROUPFINAL_C'].apply(lambda x:1 if x in ['3','2a','2b'] else 0)\n",
    "labels_train_2 = metadata_train['PATGROUPFINAL_C'].apply(lambda x:1 if x in ['4','5','6','7'] else 0)\n",
    "labels_train_3 = metadata_train['PATGROUPFINAL_C'].apply(lambda x:1 if x in ['1'] else 0)\n",
    "diseases_train_labels = [labels_train_T2D, labels_train_CAD, labels_train_HF, labels_train_SO, labels_train_MS]"
   ]
  },
  {
   "cell_type": "code",
   "execution_count": 106,
   "id": "05d32784",
   "metadata": {},
   "outputs": [],
   "source": [
    "def run_bagged_random_forest(train_data, train_labels, test_data):\n",
    "    rand = np.random.default_rng()\n",
    "    # labels: 0 = healthy, 1 = sick\n",
    "    healthy_indices = np.where(train_labels == 0)[0]\n",
    "    sick_indices    = np.where(train_labels == 1)[0]\n",
    "    n_bags = 60\n",
    "    target_sick_ratio = 0.10\n",
    "\n",
    "    # Options for model to increase diversity between bags\n",
    "    bag_size_low  = 150\n",
    "    bag_size_high = 250\n",
    "    max_features_pool   = [\"sqrt\", 0.2, 0.33, 0.5]\n",
    "    max_depth_pool      = [4, 6, 8, 10, 12, None]\n",
    "    min_samples_leaf_pool = [1, 2, 3, 4, 5, 6]\n",
    "\n",
    "    probs_train_sum = np.zeros(len(train_labels), dtype=float)\n",
    "    probs_test_sum  = np.zeros(len(test_data), dtype=float)\n",
    "    probs_train_bags = []\n",
    "    probs_test_bags  = []\n",
    "\n",
    "    for b in range(n_bags):\n",
    "        # Different bag size each time\n",
    "        bag_size = int(rand.integers(bag_size_low, bag_size_high + 1))\n",
    "        n_sick_bag    = max(1, int(round(target_sick_ratio * bag_size)))\n",
    "        n_healthy_bag = max(1, bag_size - n_sick_bag)\n",
    "\n",
    "        # Sampling to have 90% healthy 10% sick inside each bag\n",
    "        sick_sample = rand.choice(\n",
    "            sick_indices,\n",
    "            size=n_sick_bag,\n",
    "            replace=(n_sick_bag > len(sick_indices))\n",
    "        )\n",
    "        healthy_sample = rand.choice(\n",
    "            healthy_indices,\n",
    "            size=n_healthy_bag,\n",
    "            replace=True\n",
    "        )\n",
    "\n",
    "        bag_indices = np.concatenate([healthy_sample, sick_sample])\n",
    "        rand.shuffle(bag_indices)\n",
    "\n",
    "        data_bag   = train_data.iloc[bag_indices]\n",
    "        labels_bag = train_labels.iloc[bag_indices]\n",
    "\n",
    "        # Choose model hyperparameters for current bag\n",
    "        max_features_choice   = max_features_pool[int(rand.integers(0, len(max_features_pool)))]\n",
    "        max_depth_choice      = max_depth_pool[int(rand.integers(0, len(max_depth_pool)))]\n",
    "        min_samples_leaf_choice = min_samples_leaf_pool[int(rand.integers(0, len(min_samples_leaf_pool)))]\n",
    "\n",
    "        model = RandomForestClassifier(\n",
    "            n_estimators=200,\n",
    "            class_weight=\"balanced_subsample\",\n",
    "            max_features=max_features_choice,\n",
    "            max_depth=max_depth_choice,\n",
    "            min_samples_leaf=min_samples_leaf_choice,\n",
    "        )\n",
    "        model.fit(data_bag, labels_bag)\n",
    "\n",
    "        # Prediction probabilities per bag\n",
    "        probs_train = model.predict_proba(train_data)[:, 1]\n",
    "        probs_test  = model.predict_proba(test_data)[:, 1]\n",
    "\n",
    "        probs_train_sum += probs_train\n",
    "        probs_test_sum  += probs_test\n",
    "\n",
    "        probs_train_bags.append(probs_train)\n",
    "        probs_test_bags.append(probs_test)\n",
    "\n",
    "    # Average probabilities across bags\n",
    "    probs_train_mean = probs_train_sum / n_bags\n",
    "    probs_test_mean  = probs_test_sum  / n_bags\n",
    "\n",
    "    probs_train_bags = np.vstack(probs_train_bags)\n",
    "    probs_test_bags  = np.vstack(probs_test_bags)\n",
    "    \n",
    "    return probs_train_mean, probs_test_mean, probs_train_bags, probs_test_bags"
   ]
  },
  {
   "cell_type": "code",
   "execution_count": 105,
   "id": "630b6b90",
   "metadata": {},
   "outputs": [],
   "source": [
    "def aupr_balanced(labels: np.ndarray, pred_probs: np.ndarray) -> float:\n",
    "    \"\"\"\n",
    "    Compute AUPR adjusted to simulate 10% positives and 90% negatives\n",
    "    using sample weights, without discarding any samples.\n",
    "    \"\"\"\n",
    "    sick_indices = labels == 1\n",
    "    healthy_indices = labels == 0\n",
    "    sick_num = sick_indices.sum()\n",
    "    healthy_num = healthy_indices.sum()\n",
    "    \n",
    "    target_ratio = 0.1\n",
    "    w_sick = 1.0\n",
    "    w_healthy = (w_sick * sick_num * (1 - target_ratio)) / (target_ratio * healthy_num)\n",
    "    \n",
    "    # Assign weights per sample\n",
    "    weights = np.ones_like(labels, dtype=float)\n",
    "    weights[sick_indices] = w_sick\n",
    "    weights[healthy_indices] = w_healthy\n",
    "    \n",
    "    precision, recall, _ = precision_recall_curve(labels, pred_probs, sample_weight=weights)\n",
    "    baseline = np.sum(weights[sick_indices]) / np.sum(weights)\n",
    "    aupr = auc(recall, precision)\n",
    "\n",
    "    plt.figure(figsize=(8, 5))\n",
    "    plt.plot(recall, precision, label=f'AUPR = {aupr:.4f}')\n",
    "    plt.hlines(baseline, 0, 1, colors='r', linestyles='dashed', label=f'Baseline = {baseline:.4f}')\n",
    "    plt.xlabel('Recall')\n",
    "    plt.ylabel('Precision')\n",
    "    plt.title('Weighted Precision-Recall Curve (at 10% sick)')\n",
    "    plt.legend()\n",
    "    plt.tight_layout()\n",
    "    plt.show()\n",
    "    return aupr"
   ]
  },
  {
   "cell_type": "code",
   "execution_count": 108,
   "id": "d18ea566",
   "metadata": {},
   "outputs": [],
   "source": [
    "def first_layer(train_data, train_labels, test_data, test_labels):\n",
    "    train_probs, test_probs, train_probs_bags, test_probs_bags = run_bagged_random_forest(train_data, train_labels, test_data)\n",
    "    print(\"AUPR of first layer only is: \",aupr_balanced(test_labels, test_probs))\n",
    "\n",
    "    std_train = train_probs_bags.std(axis=0)\n",
    "    std_test = test_probs_bags.std(axis=0)\n",
    "    prob_lower, prob_upper = np.quantile(train_probs, [0.15, 0.85])\n",
    "    std_threshold = np.quantile(std_train, 0.4)\n",
    "\n",
    "    certain_test_samples_mask = ((test_probs <= prob_lower) | (test_probs >= prob_upper)) & (std_test <= std_threshold)\n",
    "    uncertain_test_samples_mask = ~certain_test_samples_mask\n",
    "    certain_indices = np.where(certain_test_samples_mask)[0]\n",
    "    uncertain_indices  = np.where(uncertain_test_samples_mask)[0]\n",
    "    test_labels_uncertain = test_labels.iloc[uncertain_indices]\n",
    "    test_uncertain = test_data.iloc[uncertain_indices]\n",
    "    test_labels_certain = test_labels[certain_indices]\n",
    "    test_probs_certain = test_probs[certain_indices]\n",
    "    return test_uncertain, test_labels_uncertain, test_labels_certain, test_probs_certain"
   ]
  },
  {
   "cell_type": "code",
   "execution_count": 112,
   "id": "c1b8393e",
   "metadata": {},
   "outputs": [
    {
     "data": {
      "image/png": "[encoded data removed]",
      "text/plain": [
       "<Figure size 800x500 with 1 Axes>"
      ]
     },
     "metadata": {},
     "output_type": "display_data"
    },
    {
     "name": "stdout",
     "output_type": "stream",
     "text": [
      "AUPR of first layer only is:  0.6470629038123987\n"
     ]
    }
   ],
   "source": [
    "test_uncertain, test_labels_uncertain, test_labels_certain, test_probs_certain = first_layer(microbiome_and_metabolome_train, labels_train_all_diseases, microbiome_and_metabolome_test, labels_test_all_diseases)\n",
    "labels_test_1 = metadata_test['PATGROUPFINAL_C'].apply(lambda x:1 if x in ['3','2a','2b'] else 0).loc[test_uncertain.index]\n",
    "labels_test_2 = metadata_test['PATGROUPFINAL_C'].apply(lambda x:1 if x in ['4','5','6','7'] else 0).loc[test_uncertain.index]\n",
    "labels_test_3 = metadata_test['PATGROUPFINAL_C'].apply(lambda x:1 if x in ['1'] else 0).loc[test_uncertain.index]\n",
    "disease_groups_labels = {1:(labels_train_1, labels_test_1), 2:(labels_train_2, labels_test_2), 3:(labels_train_3, labels_test_3)}"
   ]
  },
  {
   "cell_type": "code",
   "execution_count": 113,
   "id": "407e5958",
   "metadata": {},
   "outputs": [],
   "source": [
    "def run_feature_selection(train_data, train_labels):\n",
    "    lgbm = lgb.LGBMClassifier(objective='binary', verbose=-1)\n",
    "    lgbm.fit(train_data, train_labels)\n",
    "    selector = SelectFromModel(lgbm, prefit=True)\n",
    "    selected_features = train_data.columns[selector.get_support()]\n",
    "    return selected_features"
   ]
  },
  {
   "cell_type": "code",
   "execution_count": null,
   "id": "52f5596b",
   "metadata": {},
   "outputs": [],
   "source": [
    "def lgbm_per_disease_group(train_data, train_labels, test_data, test_labels, features):\n",
    "    model = lgb.LGBMClassifier(verbose=-1)\n",
    "    model.fit(train_data[features], train_labels)\n",
    "    labels_probs = model.predict_proba(test_data[features])[:, 1]\n",
    "    labels_pred = model.predict(test_data[features])\n",
    "    print(\"baseline= \",sum(test_labels) / len(test_labels))\n",
    "    print(\"aupr= \",average_precision_score(test_labels, labels_probs))\n",
    "    return labels_pred, labels_probs"
   ]
  },
  {
   "cell_type": "code",
   "execution_count": 114,
   "id": "cfc36f86",
   "metadata": {},
   "outputs": [],
   "source": [
    "def second_layer():\n",
    "    diseases_groups = {'T2D':1,'SO':1,'CAD':2,'HF':2,'MS':3}\n",
    "    features_per_disease_group = {1:set(),2:set(),3:set()}\n",
    "    for disease_labels in diseases_train_labels:\n",
    "        features = run_feature_selection(microbiome_and_metabolome_train, disease_labels)\n",
    "        features = set(features)\n",
    "        curr = features_per_disease_group[diseases_groups[disease_labels.name]]\n",
    "        if curr == set():\n",
    "            features_per_disease_group[diseases_groups[disease_labels.name]] = features\n",
    "        else:\n",
    "            features_per_disease_group[diseases_groups[disease_labels.name]] = features_per_disease_group[diseases_groups[disease_labels.name]].intersection(features)\n",
    "    res = {}\n",
    "    for disease_group in [1,2,3]:\n",
    "        train_labels, test_labels = disease_groups_labels[disease_group]\n",
    "        features = sorted(features_per_disease_group[disease_group])\n",
    "        res[disease_group] = lgbm_per_disease_group(microbiome_and_metabolome_train, train_labels, test_uncertain, test_labels, features)\n",
    "    weights = np.array([2,2,1])\n",
    "    total_weight = weights.sum()\n",
    "    probs = np.vstack([res[1][1], res[2][1], res[3][1]])  \n",
    "    weighted_mean = (probs * weights[:, None]).sum(axis=0) / total_weight\n",
    "    final_labels = (weighted_mean >= 0.5).astype(int)\n",
    "    return final_labels, weighted_mean"
   ]
  },
  {
   "cell_type": "code",
   "execution_count": null,
   "id": "af6a64f4",
   "metadata": {},
   "outputs": [
    {
     "name": "stdout",
     "output_type": "stream",
     "text": [
      "baseline=  0.5497630331753555\n",
      "aupr=  0.7751586990280286\n",
      "baseline=  0.26540284360189575\n",
      "aupr=  0.6997599263068556\n",
      "baseline=  0.12322274881516587\n",
      "aupr=  0.2473498206623051\n"
     ]
    }
   ],
   "source": [
    "x, y = second_layer()\n",
    "probs = np.concatenate([y, test_probs_certain])\n",
    "true_labels = np.concatenate([x, test_labels_certain])\n",
    "average_precision_score(true_labels, probs)"
   ]
  }
 ],
 "metadata": {
  "kernelspec": {
   "display_name": "Python 3",
   "language": "python",
   "name": "python3"
  },
  "language_info": {
   "codemirror_mode": {
    "name": "ipython",
    "version": 3
   },
   "file_extension": ".py",
   "mimetype": "text/x-python",
   "name": "python",
   "nbconvert_exporter": "python",
   "pygments_lexer": "ipython3",
   "version": "3.10.12"
  }
 },
 "nbformat": 4,
 "nbformat_minor": 5
}
